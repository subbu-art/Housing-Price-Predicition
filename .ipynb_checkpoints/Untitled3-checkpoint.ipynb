{
 "cells": [
  {
   "cell_type": "code",
   "execution_count": 10,
   "id": "6a8cb080",
   "metadata": {},
   "outputs": [],
   "source": [
    "with open('trained_model.pkl', 'rb') as file:\n",
    "    model = pickle.load(file)"
   ]
  },
  {
   "cell_type": "code",
   "execution_count": 11,
   "id": "a0a13c39",
   "metadata": {},
   "outputs": [],
   "source": [
    "import pickle\n",
    "import pandas as pd"
   ]
  },
  {
   "cell_type": "code",
   "execution_count": 12,
   "id": "ba0eb979",
   "metadata": {},
   "outputs": [],
   "source": [
    "feature_names = ['OverallQual_GrLivArea','Overall Qual_p3','Overall Qual_p2','Overall Qual',\n",
    "                         'Gr Liv Area',\n",
    "                         'Gr Liv Area_p2',\n",
    "                         'Yr Sold']"
   ]
  },
  {
   "cell_type": "code",
   "execution_count": 13,
   "id": "7b3ede02",
   "metadata": {},
   "outputs": [],
   "source": [
    "features = [384.0, 1041.0, 72.0, 150.0, 4984.0, 20045556.0, 2050.0] "
   ]
  },
  {
   "cell_type": "code",
   "execution_count": 14,
   "id": "7accb6f5",
   "metadata": {},
   "outputs": [],
   "source": [
    "data_dict = {feature_name: value for feature_name, value in zip(feature_names, features)}\n",
    "data_df = pd.DataFrame([data_dict])"
   ]
  },
  {
   "cell_type": "code",
   "execution_count": 15,
   "id": "9affcd54",
   "metadata": {},
   "outputs": [
    {
     "name": "stdout",
     "output_type": "stream",
     "text": [
      "[1451434.40011455]\n"
     ]
    }
   ],
   "source": [
    "prediction = model.predict(data_df)\n",
    "predict_data = {'SalePrice':prediction}\n",
    "print(prediction)"
   ]
  },
  {
   "cell_type": "code",
   "execution_count": null,
   "id": "f64ab744",
   "metadata": {},
   "outputs": [],
   "source": []
  }
 ],
 "metadata": {
  "kernelspec": {
   "display_name": "Python 3 (ipykernel)",
   "language": "python",
   "name": "python3"
  },
  "language_info": {
   "codemirror_mode": {
    "name": "ipython",
    "version": 3
   },
   "file_extension": ".py",
   "mimetype": "text/x-python",
   "name": "python",
   "nbconvert_exporter": "python",
   "pygments_lexer": "ipython3",
   "version": "3.7.2"
  }
 },
 "nbformat": 4,
 "nbformat_minor": 5
}
